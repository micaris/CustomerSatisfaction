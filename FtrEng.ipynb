{
 "nbformat": 4,
 "nbformat_minor": 2,
 "metadata": {
  "language_info": {
   "name": "python",
   "codemirror_mode": {
    "name": "ipython",
    "version": 3
   },
   "version": "3.7.4-final"
  },
  "orig_nbformat": 2,
  "file_extension": ".py",
  "mimetype": "text/x-python",
  "name": "python",
  "npconvert_exporter": "python",
  "pygments_lexer": "ipython3",
  "version": 3,
  "kernelspec": {
   "name": "python37464bitanaconda3virtualenv4d1d8b461d6a4699bf7db9d788d48898",
   "display_name": "Python 3.7.4 64-bit ('anaconda3': virtualenv)"
  }
 },
 "cells": [
  {
   "cell_type": "code",
   "execution_count": null,
   "metadata": {},
   "outputs": [],
   "source": [
    "import pandas as pd \n",
    "import numpy as np \n",
    "\n",
    "data = pd.read_csv('Airport_data.csv')\n",
    "n = data.shape[0]\n",
    "x = data['Departure time']\n",
    "y = data['Quarter']"
   ]
  },
  {
   "cell_type": "code",
   "execution_count": null,
   "metadata": {},
   "outputs": [],
   "source": [
    "dt = np.zeros(n)\n",
    "dq = np.zeros(n)\n",
    "\n",
    "# Encode Departure time\n",
    "for i in range(n):\n",
    "    z = x[i]\n",
    "    z = int(str(z)[0:2].strip(':'))\n",
    "    # print(z)\n",
    "    if z >= 5  and z <= 8:\n",
    "        dt[i] = 1\n",
    "    if z > 8  and z <= 12:\n",
    "        dt[i] = 2\n",
    "    if z > 12  and z <= 15:\n",
    "        dt[i] = 3\n",
    "    if z > 15  and z < 17 :\n",
    "        dt[i] = 4\n",
    "    if z > 17  and z < 22 :\n",
    "        dt[i] = 5\n",
    "# Encode Quarter\n",
    "for i in range(n):\n",
    "    # print(z)\n",
    "    if y[i] == '1Q15':\n",
    "        dq[i] = 1\n",
    "    if y[i] == '2Q15':\n",
    "        dq[i] = 2\n",
    "    if y[i] == '3Q15':\n",
    "        dq[i] = 3\n",
    "    if y[i] == '4Q15':\n",
    "        dq[i] = 4\n",
    "    if y[i] == '1Q16':\n",
    "        dq[i] = 5\n",
    "    if y[i] == '2Q16':\n",
    "        dq[i] = 6\n",
    "    if y[i] == '3Q16':\n",
    "        dq[i] = 7\n",
    "    if y[i] == '4Q16':\n",
    "        dq[i] = 8\n",
    "    if y[i] == '1Q17':\n",
    "        dq[i] = 9\n",
    "    if y[i] == '2Q17':\n",
    "        dq[i] = 10\n",
    "\n",
    "data['Encoded departure time']  = dt\n",
    "data['Encoded quarter'] = dq\n"
   ]
  },
  {
   "cell_type": "code",
   "execution_count": null,
   "metadata": {},
   "outputs": [],
   "source": [
    "\n",
    "data = data.drop([\"Quarter\", \"Departure time\", \"Date recorded\"], axis = 1)\n",
    "data = data.dropna()\n",
    "data.head()\n",
    "\n",
    "# Save cleaned data as excel file\n",
    "data.to_excel(\"Cleaned.xlsx\")"
   ]
  },
  {
   "cell_type": "code",
   "execution_count": null,
   "metadata": {},
   "outputs": [],
   "source": [
    "# Initialise scaler \n",
    "scaler = StandardScaler()\n",
    "\n",
    "#Unless columns \n",
    "X = df.iloc[:, df.columns.values != \"Overall satisfaction\" ]\n",
    "scaler.fit(X)\n",
    "\n",
    "X = scaler.transform(X)\n",
    "# Fit pca\n",
    "pca = PCA(n_components=n_pcs).fit(X)\n",
    "\n",
    "\n",
    "# get the index of the most important feature on EACH component i.e. largest absolute value\n",
    "most_important = [np.abs(pca.components_[i]).argmax() for i in range(n_pcs)]\n",
    "\n",
    "ft_names = df.columns\n",
    "\n",
    "# get the names\n",
    "most_important_names = [ft_names[most_important[i]] for i in range(n_pcs)]\n",
    "\n",
    "# using LIST COMPREHENSION HERE AGAIN\n",
    "dic = {'PC{}'.format(i+1): most_important_names[i] for i in range(n_pcs)}\n",
    "\n",
    "# build the dataframe\n",
    "pc = pd.DataFrame(dic.items())\n",
    "pc['variance'] = pca.explained_variance_ratio_\n",
    "pc"
   ]
  },
  {
   "cell_type": "code",
   "execution_count": null,
   "metadata": {},
   "outputs": [],
   "source": [
    "pca.components_[0]"
   ]
  }
 ]
}